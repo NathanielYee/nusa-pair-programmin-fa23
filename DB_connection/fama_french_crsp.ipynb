{
 "cells": [
  {
   "cell_type": "code",
   "execution_count": 21,
   "id": "initial_id",
   "metadata": {
    "collapsed": true,
    "ExecuteTime": {
     "end_time": "2023-11-02T23:22:35.245706Z",
     "start_time": "2023-11-02T23:22:34.963609Z"
    }
   },
   "outputs": [
    {
     "data": {
      "text/plain": "         month  mkt_excess     smb     hml      rf\n0   1960-01-01     -0.0698  0.0209  0.0278  0.0033\n1   1960-02-01      0.0117  0.0051 -0.0193  0.0029\n2   1960-03-01     -0.0163 -0.0049 -0.0294  0.0035\n3   1960-04-01     -0.0171  0.0032 -0.0228  0.0019\n4   1960-05-01      0.0312  0.0121 -0.0370  0.0027\n..         ...         ...     ...     ...     ...\n751 2022-08-01     -0.0377  0.0140  0.0029  0.0019\n752 2022-09-01     -0.0935 -0.0081  0.0005  0.0019\n753 2022-10-01      0.0783  0.0006  0.0801  0.0023\n754 2022-11-01      0.0460 -0.0352  0.0138  0.0029\n755 2022-12-01     -0.0641 -0.0069  0.0137  0.0033\n\n[756 rows x 5 columns]",
      "text/html": "<div>\n<style scoped>\n    .dataframe tbody tr th:only-of-type {\n        vertical-align: middle;\n    }\n\n    .dataframe tbody tr th {\n        vertical-align: top;\n    }\n\n    .dataframe thead th {\n        text-align: right;\n    }\n</style>\n<table border=\"1\" class=\"dataframe\">\n  <thead>\n    <tr style=\"text-align: right;\">\n      <th></th>\n      <th>month</th>\n      <th>mkt_excess</th>\n      <th>smb</th>\n      <th>hml</th>\n      <th>rf</th>\n    </tr>\n  </thead>\n  <tbody>\n    <tr>\n      <th>0</th>\n      <td>1960-01-01</td>\n      <td>-0.0698</td>\n      <td>0.0209</td>\n      <td>0.0278</td>\n      <td>0.0033</td>\n    </tr>\n    <tr>\n      <th>1</th>\n      <td>1960-02-01</td>\n      <td>0.0117</td>\n      <td>0.0051</td>\n      <td>-0.0193</td>\n      <td>0.0029</td>\n    </tr>\n    <tr>\n      <th>2</th>\n      <td>1960-03-01</td>\n      <td>-0.0163</td>\n      <td>-0.0049</td>\n      <td>-0.0294</td>\n      <td>0.0035</td>\n    </tr>\n    <tr>\n      <th>3</th>\n      <td>1960-04-01</td>\n      <td>-0.0171</td>\n      <td>0.0032</td>\n      <td>-0.0228</td>\n      <td>0.0019</td>\n    </tr>\n    <tr>\n      <th>4</th>\n      <td>1960-05-01</td>\n      <td>0.0312</td>\n      <td>0.0121</td>\n      <td>-0.0370</td>\n      <td>0.0027</td>\n    </tr>\n    <tr>\n      <th>...</th>\n      <td>...</td>\n      <td>...</td>\n      <td>...</td>\n      <td>...</td>\n      <td>...</td>\n    </tr>\n    <tr>\n      <th>751</th>\n      <td>2022-08-01</td>\n      <td>-0.0377</td>\n      <td>0.0140</td>\n      <td>0.0029</td>\n      <td>0.0019</td>\n    </tr>\n    <tr>\n      <th>752</th>\n      <td>2022-09-01</td>\n      <td>-0.0935</td>\n      <td>-0.0081</td>\n      <td>0.0005</td>\n      <td>0.0019</td>\n    </tr>\n    <tr>\n      <th>753</th>\n      <td>2022-10-01</td>\n      <td>0.0783</td>\n      <td>0.0006</td>\n      <td>0.0801</td>\n      <td>0.0023</td>\n    </tr>\n    <tr>\n      <th>754</th>\n      <td>2022-11-01</td>\n      <td>0.0460</td>\n      <td>-0.0352</td>\n      <td>0.0138</td>\n      <td>0.0029</td>\n    </tr>\n    <tr>\n      <th>755</th>\n      <td>2022-12-01</td>\n      <td>-0.0641</td>\n      <td>-0.0069</td>\n      <td>0.0137</td>\n      <td>0.0033</td>\n    </tr>\n  </tbody>\n</table>\n<p>756 rows × 5 columns</p>\n</div>"
     },
     "execution_count": 21,
     "metadata": {},
     "output_type": "execute_result"
    }
   ],
   "source": [
    "start_date = \"1960-01-01\"\n",
    "end_date = \"2022-12-31\"\n",
    "import pandas_datareader as pdr\n",
    "import pandas as pd\n",
    "import numpy as np\n",
    "from compustat_connection import Computstat\n",
    "factors_ff3_monthly_raw = pdr.DataReader(\n",
    "\tname=\"F-F_Research_Data_Factors\",\n",
    "\tdata_source=\"famafrench\",\n",
    "\tstart=start_date,\n",
    "\tend=end_date)[0]\n",
    "factors_ff3_monthly = (factors_ff3_monthly_raw\n",
    "\t.divide(100)\n",
    "\t.reset_index(names=\"month\")\n",
    "\t.assign(\n",
    "\tmonth = lambda x: pd.to_datetime(x[\"month\"].astype(str))\n",
    ")\n",
    ".rename(str.lower, axis=\"columns\")\n",
    ".rename(columns = {\"mkt-rf\" : \"mkt_excess\"})\n",
    ")\n",
    "\n",
    "factors_ff3_monthly"
   ]
  },
  {
   "cell_type": "code",
   "execution_count": 18,
   "outputs": [
    {
     "name": "stdout",
     "output_type": "stream",
     "text": [
      "SELECT msf.permno, msf.date, date_trunc('month', msf.date)::date as month, msf.ret, msf.shrout, msf.altprc, msenames.exchcd, msenames.siccd, msedelist.dlret, msedelist.dlstcd FROM crsp.msf AS msf LEFT JOIN crsp.msenames as msenames ON msf.permno = msenames.permno AND msenames.namedt <= msf.date AND msf.date <= msenames.nameendt LEFT JOIN crsp.msedelist as msedelist ON msf.permno = msedelist.permno AND date_trunc('month', msf.date)::date = date_trunc('month', msedelist.dlstdt)::date WHERE msf.date BETWEEN '01/01/1960' AND '12/31/2022' AND msenames.shrcd IN (10, 11)\n"
     ]
    }
   ],
   "source": [
    "crsp_monthly_query = (\n",
    "  \"SELECT msf.permno, msf.date, \"\n",
    "          \"date_trunc('month', msf.date)::date as month, \"\n",
    "          \"msf.ret, msf.shrout, msf.altprc, \"\n",
    "          \"msenames.exchcd, msenames.siccd, \"\n",
    "          \"msedelist.dlret, msedelist.dlstcd \"\n",
    "    \"FROM crsp.msf AS msf \"\n",
    "    \"LEFT JOIN crsp.msenames as msenames \"\n",
    "    \"ON msf.permno = msenames.permno AND \"\n",
    "       \"msenames.namedt <= msf.date AND \"\n",
    "       \"msf.date <= msenames.nameendt \"\n",
    "    \"LEFT JOIN crsp.msedelist as msedelist \"\n",
    "    \"ON msf.permno = msedelist.permno AND \"\n",
    "       \"date_trunc('month', msf.date)::date = \"\n",
    "       \"date_trunc('month', msedelist.dlstdt)::date \"\n",
    "    \"WHERE msf.date BETWEEN '01/01/1960' AND '12/31/2022' \"\n",
    "          \"AND msenames.shrcd IN (10, 11)\"\n",
    ") "
   ],
   "metadata": {
    "collapsed": false,
    "ExecuteTime": {
     "end_time": "2023-11-02T23:21:55.057459Z",
     "start_time": "2023-11-02T23:21:55.054810Z"
    }
   },
   "id": "ef6a4e4cdf5bfc6b"
  },
  {
   "cell_type": "code",
   "execution_count": 29,
   "outputs": [
    {
     "name": "stdout",
     "output_type": "stream",
     "text": [
      "Loading library list...\n",
      "Done\n",
      "nathanielyee\n"
     ]
    }
   ],
   "source": [
    "curr = Computstat('nathanielyee')\n",
    "print(curr)\n"
   ],
   "metadata": {
    "collapsed": false,
    "ExecuteTime": {
     "end_time": "2023-11-02T23:31:44.267183Z",
     "start_time": "2023-11-02T23:31:42.696587Z"
    }
   },
   "id": "a4b696fbc6091b8a"
  },
  {
   "cell_type": "code",
   "execution_count": 30,
   "outputs": [],
   "source": [
    "crsp_df = curr.execute(crsp_monthly_query)\n"
   ],
   "metadata": {
    "collapsed": false,
    "ExecuteTime": {
     "end_time": "2023-11-02T23:32:54.770126Z",
     "start_time": "2023-11-02T23:31:45.756401Z"
    }
   },
   "id": "14ff0736877ba765"
  },
  {
   "cell_type": "code",
   "execution_count": 35,
   "outputs": [
    {
     "data": {
      "text/plain": "         permno        date       month       ret    shrout     altprc  \\\n0       10000.0  1986-01-31  1986-01-01       NaN    3680.0  -4.375000   \n1       10000.0  1986-02-28  1986-02-01 -0.257143    3680.0  -3.250000   \n2       10000.0  1986-03-31  1986-03-01  0.365385    3680.0  -4.437500   \n3       10000.0  1986-04-30  1986-04-01 -0.098592    3793.0  -4.000000   \n4       10000.0  1986-05-30  1986-05-01 -0.222656    3793.0  -3.109375   \n...         ...         ...         ...       ...       ...        ...   \n431267  90251.0  2006-07-31  2006-07-01 -0.012759  135693.0  28.629999   \n431268  90251.0  2006-08-31  2006-08-01  0.072302  135693.0  30.700001   \n431269  90251.0  2006-09-29  2006-09-01  0.239414  143374.0  38.049999   \n431270  90251.0  2006-10-31  2006-10-01  0.034691  142231.0  39.369999   \n431271  90251.0  2006-11-30  2006-11-01  0.013716  142231.0  39.910000   \n\n        exchcd   siccd  dlret  dlstcd  shrout_altprc  \n0          3.0  3990.0    NaN     NaN       0.016100  \n1          3.0  3990.0    NaN     NaN       0.011960  \n2          3.0  3990.0    NaN     NaN       0.016330  \n3          3.0  3990.0    NaN     NaN       0.015172  \n4          3.0  3990.0    NaN     NaN       0.011794  \n...        ...     ...    ...     ...            ...  \n431267     1.0  3674.0    NaN     NaN       3.884890  \n431268     1.0  3674.0    NaN     NaN       4.165775  \n431269     1.0  3674.0    NaN     NaN       5.455381  \n431270     1.0  3674.0    NaN     NaN       5.599634  \n431271     1.0  3674.0    NaN     NaN       5.676439  \n\n[3431272 rows x 11 columns]",
      "text/html": "<div>\n<style scoped>\n    .dataframe tbody tr th:only-of-type {\n        vertical-align: middle;\n    }\n\n    .dataframe tbody tr th {\n        vertical-align: top;\n    }\n\n    .dataframe thead th {\n        text-align: right;\n    }\n</style>\n<table border=\"1\" class=\"dataframe\">\n  <thead>\n    <tr style=\"text-align: right;\">\n      <th></th>\n      <th>permno</th>\n      <th>date</th>\n      <th>month</th>\n      <th>ret</th>\n      <th>shrout</th>\n      <th>altprc</th>\n      <th>exchcd</th>\n      <th>siccd</th>\n      <th>dlret</th>\n      <th>dlstcd</th>\n      <th>shrout_altprc</th>\n    </tr>\n  </thead>\n  <tbody>\n    <tr>\n      <th>0</th>\n      <td>10000.0</td>\n      <td>1986-01-31</td>\n      <td>1986-01-01</td>\n      <td>NaN</td>\n      <td>3680.0</td>\n      <td>-4.375000</td>\n      <td>3.0</td>\n      <td>3990.0</td>\n      <td>NaN</td>\n      <td>NaN</td>\n      <td>0.016100</td>\n    </tr>\n    <tr>\n      <th>1</th>\n      <td>10000.0</td>\n      <td>1986-02-28</td>\n      <td>1986-02-01</td>\n      <td>-0.257143</td>\n      <td>3680.0</td>\n      <td>-3.250000</td>\n      <td>3.0</td>\n      <td>3990.0</td>\n      <td>NaN</td>\n      <td>NaN</td>\n      <td>0.011960</td>\n    </tr>\n    <tr>\n      <th>2</th>\n      <td>10000.0</td>\n      <td>1986-03-31</td>\n      <td>1986-03-01</td>\n      <td>0.365385</td>\n      <td>3680.0</td>\n      <td>-4.437500</td>\n      <td>3.0</td>\n      <td>3990.0</td>\n      <td>NaN</td>\n      <td>NaN</td>\n      <td>0.016330</td>\n    </tr>\n    <tr>\n      <th>3</th>\n      <td>10000.0</td>\n      <td>1986-04-30</td>\n      <td>1986-04-01</td>\n      <td>-0.098592</td>\n      <td>3793.0</td>\n      <td>-4.000000</td>\n      <td>3.0</td>\n      <td>3990.0</td>\n      <td>NaN</td>\n      <td>NaN</td>\n      <td>0.015172</td>\n    </tr>\n    <tr>\n      <th>4</th>\n      <td>10000.0</td>\n      <td>1986-05-30</td>\n      <td>1986-05-01</td>\n      <td>-0.222656</td>\n      <td>3793.0</td>\n      <td>-3.109375</td>\n      <td>3.0</td>\n      <td>3990.0</td>\n      <td>NaN</td>\n      <td>NaN</td>\n      <td>0.011794</td>\n    </tr>\n    <tr>\n      <th>...</th>\n      <td>...</td>\n      <td>...</td>\n      <td>...</td>\n      <td>...</td>\n      <td>...</td>\n      <td>...</td>\n      <td>...</td>\n      <td>...</td>\n      <td>...</td>\n      <td>...</td>\n      <td>...</td>\n    </tr>\n    <tr>\n      <th>431267</th>\n      <td>90251.0</td>\n      <td>2006-07-31</td>\n      <td>2006-07-01</td>\n      <td>-0.012759</td>\n      <td>135693.0</td>\n      <td>28.629999</td>\n      <td>1.0</td>\n      <td>3674.0</td>\n      <td>NaN</td>\n      <td>NaN</td>\n      <td>3.884890</td>\n    </tr>\n    <tr>\n      <th>431268</th>\n      <td>90251.0</td>\n      <td>2006-08-31</td>\n      <td>2006-08-01</td>\n      <td>0.072302</td>\n      <td>135693.0</td>\n      <td>30.700001</td>\n      <td>1.0</td>\n      <td>3674.0</td>\n      <td>NaN</td>\n      <td>NaN</td>\n      <td>4.165775</td>\n    </tr>\n    <tr>\n      <th>431269</th>\n      <td>90251.0</td>\n      <td>2006-09-29</td>\n      <td>2006-09-01</td>\n      <td>0.239414</td>\n      <td>143374.0</td>\n      <td>38.049999</td>\n      <td>1.0</td>\n      <td>3674.0</td>\n      <td>NaN</td>\n      <td>NaN</td>\n      <td>5.455381</td>\n    </tr>\n    <tr>\n      <th>431270</th>\n      <td>90251.0</td>\n      <td>2006-10-31</td>\n      <td>2006-10-01</td>\n      <td>0.034691</td>\n      <td>142231.0</td>\n      <td>39.369999</td>\n      <td>1.0</td>\n      <td>3674.0</td>\n      <td>NaN</td>\n      <td>NaN</td>\n      <td>5.599634</td>\n    </tr>\n    <tr>\n      <th>431271</th>\n      <td>90251.0</td>\n      <td>2006-11-30</td>\n      <td>2006-11-01</td>\n      <td>0.013716</td>\n      <td>142231.0</td>\n      <td>39.910000</td>\n      <td>1.0</td>\n      <td>3674.0</td>\n      <td>NaN</td>\n      <td>NaN</td>\n      <td>5.676439</td>\n    </tr>\n  </tbody>\n</table>\n<p>3431272 rows × 11 columns</p>\n</div>"
     },
     "execution_count": 35,
     "metadata": {},
     "output_type": "execute_result"
    }
   ],
   "source": [
    "crsp_df['shrout_altprc'] = abs((crsp_df['shrout'] * crsp_df['altprc'])/1000000)\n",
    "crsp_df['shrout_altprc'].replace(0, np.nan, inplace=True)\n",
    "crsp_df\n"
   ],
   "metadata": {
    "collapsed": false,
    "ExecuteTime": {
     "end_time": "2023-11-02T23:36:05.223809Z",
     "start_time": "2023-11-02T23:36:05.181080Z"
    }
   },
   "id": "fcf49f28e5d14e4c"
  },
  {
   "cell_type": "code",
   "execution_count": null,
   "outputs": [],
   "source": [],
   "metadata": {
    "collapsed": false
   },
   "id": "655cfe03edafc3b3"
  }
 ],
 "metadata": {
  "kernelspec": {
   "display_name": "Python 3",
   "language": "python",
   "name": "python3"
  },
  "language_info": {
   "codemirror_mode": {
    "name": "ipython",
    "version": 2
   },
   "file_extension": ".py",
   "mimetype": "text/x-python",
   "name": "python",
   "nbconvert_exporter": "python",
   "pygments_lexer": "ipython2",
   "version": "2.7.6"
  }
 },
 "nbformat": 4,
 "nbformat_minor": 5
}
