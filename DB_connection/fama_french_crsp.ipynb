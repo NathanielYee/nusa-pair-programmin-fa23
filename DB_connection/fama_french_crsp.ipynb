{
 "cells": [
  {
   "cell_type": "code",
   "execution_count": 1,
   "id": "initial_id",
   "metadata": {
    "collapsed": true,
    "ExecuteTime": {
     "end_time": "2023-11-02T23:08:44.665773Z",
     "start_time": "2023-11-02T23:08:44.286873Z"
    }
   },
   "outputs": [
    {
     "ename": "ModuleNotFoundError",
     "evalue": "No module named 'pandas_datareader'",
     "output_type": "error",
     "traceback": [
      "\u001B[0;31m---------------------------------------------------------------------------\u001B[0m",
      "\u001B[0;31mModuleNotFoundError\u001B[0m                       Traceback (most recent call last)",
      "Cell \u001B[0;32mIn[1], line 3\u001B[0m\n\u001B[1;32m      1\u001B[0m start_date \u001B[38;5;241m=\u001B[39m \u001B[38;5;124m\"\u001B[39m\u001B[38;5;124m1960-01-01\u001B[39m\u001B[38;5;124m\"\u001B[39m\n\u001B[1;32m      2\u001B[0m end_date \u001B[38;5;241m=\u001B[39m \u001B[38;5;124m\"\u001B[39m\u001B[38;5;124m2022-12-31\u001B[39m\u001B[38;5;124m\"\u001B[39m\n\u001B[0;32m----> 3\u001B[0m \u001B[38;5;28;01mimport\u001B[39;00m \u001B[38;5;21;01mpandas_datareader\u001B[39;00m \u001B[38;5;28;01mas\u001B[39;00m \u001B[38;5;21;01mpdr\u001B[39;00m\n\u001B[1;32m      4\u001B[0m factors_ff3_monthly_raw \u001B[38;5;241m=\u001B[39m pdr\u001B[38;5;241m.\u001B[39mDataReader(\n\u001B[1;32m      5\u001B[0m \tname\u001B[38;5;241m=\u001B[39m\u001B[38;5;124m\"\u001B[39m\u001B[38;5;124mF-F_Research_Data_Factors\u001B[39m\u001B[38;5;124m\"\u001B[39m,\n\u001B[1;32m      6\u001B[0m \tdata_source\u001B[38;5;241m=\u001B[39m\u001B[38;5;124m\"\u001B[39m\u001B[38;5;124mfamafrench\u001B[39m\u001B[38;5;124m\"\u001B[39m,\n\u001B[1;32m      7\u001B[0m \tstart\u001B[38;5;241m=\u001B[39mstart_date,\n\u001B[1;32m      8\u001B[0m \tend\u001B[38;5;241m=\u001B[39mend_date)[\u001B[38;5;241m0\u001B[39m]\n\u001B[1;32m      9\u001B[0m factors_ff3_monthly \u001B[38;5;241m=\u001B[39m (factors_ff3_monthly_raw\n\u001B[1;32m     10\u001B[0m \t\u001B[38;5;241m.\u001B[39mdivide(\u001B[38;5;241m100\u001B[39m)\n\u001B[1;32m     11\u001B[0m \t\u001B[38;5;241m.\u001B[39mreset_index(names\u001B[38;5;241m=\u001B[39m\u001B[38;5;124m\"\u001B[39m\u001B[38;5;124mmonth\u001B[39m\u001B[38;5;124m\"\u001B[39m)\n\u001B[0;32m   (...)\u001B[0m\n\u001B[1;32m     16\u001B[0m \u001B[38;5;241m.\u001B[39mrename(columns \u001B[38;5;241m=\u001B[39m {\u001B[38;5;124m\"\u001B[39m\u001B[38;5;124mmkt-rf\u001B[39m\u001B[38;5;124m\"\u001B[39m : \u001B[38;5;124m\"\u001B[39m\u001B[38;5;124mmkt_excess\u001B[39m\u001B[38;5;124m\"\u001B[39m})\n\u001B[1;32m     17\u001B[0m )\n",
      "\u001B[0;31mModuleNotFoundError\u001B[0m: No module named 'pandas_datareader'"
     ]
    }
   ],
   "source": [
    "start_date = \"1960-01-01\"\n",
    "end_date = \"2022-12-31\"\n",
    "import pandas_datareader as pdr\n",
    "factors_ff3_monthly_raw = pdr.DataReader(\n",
    "\tname=\"F-F_Research_Data_Factors\",\n",
    "\tdata_source=\"famafrench\",\n",
    "\tstart=start_date,\n",
    "\tend=end_date)[0]\n",
    "factors_ff3_monthly = (factors_ff3_monthly_raw\n",
    "\t.divide(100)\n",
    "\t.reset_index(names=\"month\")\n",
    "\t.assign(\n",
    "\tmonth = lambda x: pd.to_datetime(x[\"month\"].astype(str))\n",
    ")\n",
    ".rename(str.lower, axis=\"columns\")\n",
    ".rename(columns = {\"mkt-rf\" : \"mkt_excess\"})\n",
    ")"
   ]
  }
 ],
 "metadata": {
  "kernelspec": {
   "display_name": "Python 3",
   "language": "python",
   "name": "python3"
  },
  "language_info": {
   "codemirror_mode": {
    "name": "ipython",
    "version": 2
   },
   "file_extension": ".py",
   "mimetype": "text/x-python",
   "name": "python",
   "nbconvert_exporter": "python",
   "pygments_lexer": "ipython2",
   "version": "2.7.6"
  }
 },
 "nbformat": 4,
 "nbformat_minor": 5
}
