{
 "cells": [
  {
   "cell_type": "code",
   "execution_count": null,
   "id": "initial_id",
   "metadata": {
    "collapsed": true
   },
   "outputs": [],
   "source": [
    "start_date = \"1960-01-01\"\n",
    "end_date = \"2022-12-31\"\n",
    "import pandas_datareader as pdr\n",
    "factors_ff3_monthly_raw = pdr.DataReader(\n",
    "\tname=\"F-F_Research_Data_Factors\",\n",
    "\tdata_source=\"famafrench\",\n",
    "\tstart=start_date,\n",
    "\tend=end_date)[0]\n",
    "factors_ff3_monthly = (factors_ff3_monthly_raw\n",
    "\t.divide(100)\n",
    "\t.reset_index(names=\"month\")\n",
    "\t.assign(\n",
    "\tmonth = lambda x: pd.to_datetime(x[\"month\"].astype(str))\n",
    ")\n",
    ".rename(str.lower, axis=\"columns\")\n",
    ".rename(columns = {\"mkt-rf\" : \"mkt_excess\"})\n",
    ")"
   ]
  }
 ],
 "metadata": {
  "kernelspec": {
   "display_name": "Python 3",
   "language": "python",
   "name": "python3"
  },
  "language_info": {
   "codemirror_mode": {
    "name": "ipython",
    "version": 2
   },
   "file_extension": ".py",
   "mimetype": "text/x-python",
   "name": "python",
   "nbconvert_exporter": "python",
   "pygments_lexer": "ipython2",
   "version": "2.7.6"
  }
 },
 "nbformat": 4,
 "nbformat_minor": 5
}
